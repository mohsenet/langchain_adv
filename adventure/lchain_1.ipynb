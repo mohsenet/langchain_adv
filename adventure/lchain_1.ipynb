{
 "cells": [
  {
   "cell_type": "code",
   "execution_count": 1,
   "id": "317c81e8-a2f3-4dc8-b756-e5ad46c1623b",
   "metadata": {},
   "outputs": [],
   "source": [
    "# Install required packages\n",
    "# pip install langchain langchain-ollama\n",
    "\n",
    "# Import necessary modules\n",
    "from langchain_ollama import OllamaLLM\n",
    "from langchain.prompts import PromptTemplate\n",
    "from langchain.schema.runnable import RunnableSequence"
   ]
  },
  {
   "cell_type": "code",
   "execution_count": 2,
   "id": "5e614448-b8ea-4a9a-9949-36d1a0dd6b85",
   "metadata": {},
   "outputs": [],
   "source": [
    "# Initialize the Ollama language model\n",
    "# This assumes you have Ollama running locally\n",
    "# Initialize with explicit base URL\n",
    "llm = OllamaLLM(\n",
    "    model=\"deepseek-r1:1.5b\",\n",
    "    base_url=\"http://localhost:11434\"  # Default Ollama server URL\n",
    ")\n",
    "\n",
    "# Create a prompt template\n",
    "prompt_template = PromptTemplate(\n",
    "    input_variables=[\"question\"],\n",
    "    template=\"Question: {question}\\nDetailed answer:\"\n",
    ")"
   ]
  },
  {
   "cell_type": "code",
   "execution_count": 3,
   "id": "799b9fc7-3e38-4a90-80e8-5ad3f1286a68",
   "metadata": {},
   "outputs": [],
   "source": [
    "# Create a runnable sequence (chain) using the | operator\n",
    "chain = prompt_template | llm"
   ]
  },
  {
   "cell_type": "code",
   "execution_count": 4,
   "id": "931dde30-1b27-4e16-ba9f-f5ca92e019f4",
   "metadata": {},
   "outputs": [],
   "source": [
    "# Run the chain\n",
    "result = chain.invoke({\"question\": \"What are the key differences between supervised and unsupervised learning?\"})"
   ]
  },
  {
   "cell_type": "code",
   "execution_count": 5,
   "id": "fcd2c4c6-6301-412d-9080-abcc30d4eba3",
   "metadata": {},
   "outputs": [
    {
     "name": "stdout",
     "output_type": "stream",
     "text": [
      "<think>\n",
      "Okay, so I need to figure out the key differences between supervised and unsupervised learning. Let me start by recalling what each of these terms means.\n",
      "\n",
      "I remember that machine learning can be divided into two broad categories: supervised and unsupervised learning. But wait, isn't there also reinforcement learning? Hmm, maybe the main focus here is on prediction versus modeling or discovery.\n",
      "\n",
      "So, for supervised learning, I think it's about training a model with labeled data. That means each example in the dataset has a target label that we know what to predict. So, once the model is trained, it can make predictions on new, unseen data. Examples of this include classification and regression tasks where we have both input features and output labels.\n",
      "\n",
      "On the other hand, unsupervised learning doesn't involve labeled data. Instead, the algorithm tries to find patterns or structure within the data without prior information about what those patterns might be. This is useful for exploratory analysis, anomaly detection, and dimensionality reduction because it can uncover hidden structures or groupings in datasets.\n",
      "\n",
      "I should also consider the goals of each method. With supervised learning, our goal is to predict a specific outcome based on input features. That makes sense because if we have known results, we can train models to generalize from there. For unsupervised learning, though, since we don't have labels or outcomes, it's more about finding associations and patterns without any predefined expectations.\n",
      "\n",
      "Another point I think about is that supervised learning requires ground truth data—data with correct answers or labels. This makes tasks like classification more straightforward because the model knows what to predict. Unsupervised learning operates on data where we don't have those labels, so it's a bit trickier but can uncover things we didn't expect.\n",
      "\n",
      "I wonder about real-world applications. For example, supervised learning is used in recommendation systems, fraud detection, and image classification. These are tasks where the model has clear goals based on labeled data. Unsupervised learning can be applied to customer segmentation, anomaly detection, and even finding latent variables in data through clustering or dimensionality reduction techniques.\n",
      "\n",
      "Wait, what about semi-supervised learning? I think that's a mix of both, using some labeled and some unlabeled data. It might be used when obtaining labeled data is expensive or time-consuming, allowing models to learn from a larger amount of unlabeled data alongside known information.\n",
      "\n",
      "Also, in terms of evaluation metrics, supervised learning uses things like accuracy, precision, recall, F1 score, ROC curves, etc., while unsupervised learning relies on measures such as silhouette score for clustering, or adjusted Rand index for comparing clusterings. It's interesting that even when you don't have labels to evaluate, some form of validation can still be applied through these metrics.\n",
      "\n",
      "I should also think about the amount of data each method handles differently. Supervised methods typically require more labeled data because they rely on explicit information to train on. Unsupervised methods often work with larger datasets where labeling is easier or less involved, especially in exploratory contexts.\n",
      "\n",
      "Another aspect is that unsupervised learning can be used for feature engineering as well. Sometimes features are discovered through the process of clustering or dimensionality reduction without being explicitly labeled, which opens up new possibilities for understanding data structure and relationships.\n",
      "\n",
      "So, summarizing, the main differences seem to revolve around whether labels are required, the goal of prediction versus discovery, and the presence or absence of labeled data in training datasets. Supervised learning is more about prediction with known outcomes, while unsupervised is about finding hidden patterns without those outcomes.\n",
      "</think>\n",
      "\n",
      "**Answer:**\n",
      "\n",
      "The key differences between supervised and unsupervised learning can be summarized as follows:\n",
      "\n",
      "1. **Data Requirements:**\n",
      "   - **Supervised Learning:** Requires labeled data, where each example has input features and corresponding output labels. This allows the model to learn from these predefined examples and make predictions on new, unseen data.\n",
      "   - **Unsupervised Learning:** Uses unlabeled data, which lacks explicit target variables. The goal is to find hidden patterns or structure within the data.\n",
      "\n",
      "2. **Learning Objective:**\n",
      "   - **Supervised Learning:** Focuses on prediction or classification tasks where the model aims to predict specific outcomes based on input features.\n",
      "   - **Unsupervised Learning:** Aims to discover associations, groupings, or anomalies in data without predefined goals. It is useful for exploratory analysis and pattern recognition.\n",
      "\n",
      "3. **Data Label Information:**\n",
      "   - **Supervised Learning:** Utilizes labeled data that includes output information, enabling the model to learn relationships between inputs and outputs.\n",
      "   - **Unsupervised Learning:** Works with unlabeled data, where labels are absent, necessitating algorithms to find inherent structures or patterns.\n",
      "\n",
      "4. **Evaluation Metrics:**\n",
      "   - **Supervised Learning:** Uses metrics like accuracy, precision, recall, F1 score, and ROC curves for evaluation, which require labeled data.\n",
      "   - **Unsupervised Learning:** Employs metrics such as silhouette scores for clustering and adjusted Rand index to evaluate the quality of discovered patterns or groupings.\n",
      "\n",
      "5. **Role in Real-World Applications:**\n",
      "   - **Supervised Learning:** Commonly used in tasks like recommendation systems, fraud detection, and image classification.\n",
      "   - **Unsupervised Learning:** Applicable in customer segmentation, anomaly detection, and finding latent variables through techniques such as clustering or dimensionality reduction.\n",
      "\n",
      "6. **Semi-Supervised Learning:**\n",
      "   - Combines labeled and unlabeled data. It can be used when explicit labels are hard to obtain, allowing models to leverage both knowledge of certain outcomes and large amounts of unlabeled data.\n",
      "\n",
      "In essence, supervised learning excels at prediction with known outputs, while unsupervised learning focuses on uncovering hidden patterns without such guidance. Both methods have diverse applications, from exploratory analysis to predictive modeling.\n"
     ]
    }
   ],
   "source": [
    "print(result)"
   ]
  },
  {
   "cell_type": "code",
   "execution_count": null,
   "id": "55002028-6eb2-4c38-8e7f-05746f9f9daa",
   "metadata": {},
   "outputs": [],
   "source": []
  }
 ],
 "metadata": {
  "kernelspec": {
   "display_name": "Python 3 (ipykernel)",
   "language": "python",
   "name": "python3"
  },
  "language_info": {
   "codemirror_mode": {
    "name": "ipython",
    "version": 3
   },
   "file_extension": ".py",
   "mimetype": "text/x-python",
   "name": "python",
   "nbconvert_exporter": "python",
   "pygments_lexer": "ipython3",
   "version": "3.10.12"
  }
 },
 "nbformat": 4,
 "nbformat_minor": 5
}
